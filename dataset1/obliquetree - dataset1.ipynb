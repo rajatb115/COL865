{
 "cells": [
  {
   "cell_type": "code",
   "execution_count": 1,
   "id": "de302ea2",
   "metadata": {},
   "outputs": [],
   "source": [
    "#! /home/rajat1/anaconda3/envs/col865/bin/pip install scikit-obliquetree"
   ]
  },
  {
   "cell_type": "code",
   "execution_count": 2,
   "id": "716f5602",
   "metadata": {},
   "outputs": [],
   "source": [
    "#! /home/rajat1/anaconda3/envs/col865/bin/pip install git+https://github.com/AndriyMulyar/sklearn-oblique-tree"
   ]
  },
  {
   "cell_type": "markdown",
   "id": "d110774a",
   "metadata": {},
   "source": [
    "### Reading the dataset"
   ]
  },
  {
   "cell_type": "code",
   "execution_count": 3,
   "id": "80224b02",
   "metadata": {},
   "outputs": [],
   "source": [
    "f1 = open(\"dataset1/dataset.arff\")"
   ]
  },
  {
   "cell_type": "markdown",
   "id": "9dca0570",
   "metadata": {},
   "source": [
    "### Removing the unwanted lines"
   ]
  },
  {
   "cell_type": "code",
   "execution_count": 4,
   "id": "dfbc38ee",
   "metadata": {},
   "outputs": [],
   "source": [
    "line = f1.readline()\n",
    "\n",
    "i = 0\n",
    "while(line):\n",
    "    line = f1.readline()\n",
    "    if i==48:\n",
    "        break\n",
    "    \n",
    "    i+=1"
   ]
  },
  {
   "cell_type": "markdown",
   "id": "f811906f",
   "metadata": {},
   "source": [
    "### Reading the actual dataset"
   ]
  },
  {
   "cell_type": "code",
   "execution_count": 5,
   "id": "bdaa762d",
   "metadata": {},
   "outputs": [],
   "source": [
    "dataset_tmp = []\n",
    "dataset_tmp.append(line[:-1])\n",
    "\n",
    "while line:\n",
    "    line = f1.readline()\n",
    "    \n",
    "    if line == '':\n",
    "        break\n",
    "    \n",
    "    dataset_tmp.append(line[:-1])\n"
   ]
  },
  {
   "cell_type": "code",
   "execution_count": 6,
   "id": "58d518b2",
   "metadata": {},
   "outputs": [
    {
     "name": "stdout",
     "output_type": "stream",
     "text": [
      "length of the dataset 2916697\n"
     ]
    }
   ],
   "source": [
    "print(\"length of the dataset\", len(dataset_tmp))"
   ]
  },
  {
   "cell_type": "code",
   "execution_count": 7,
   "id": "9c3ba452",
   "metadata": {},
   "outputs": [
    {
     "name": "stdout",
     "output_type": "stream",
     "text": [
      "3LFFBxp15h9KSFtaw55np8eP5fv6kdK17e,2018,330,144,0.0739724122705657,6800,0,2,112350000,white\n"
     ]
    }
   ],
   "source": [
    "print(dataset_tmp[-1])"
   ]
  },
  {
   "cell_type": "code",
   "execution_count": 8,
   "id": "ff23fc3b",
   "metadata": {},
   "outputs": [],
   "source": [
    "dataset= []\n",
    "\n",
    "for i in dataset_tmp:\n",
    "    dataset.append(i.strip().split(','))"
   ]
  },
  {
   "cell_type": "code",
   "execution_count": 9,
   "id": "309ad6df",
   "metadata": {},
   "outputs": [],
   "source": [
    "# ! /home/rajat1/anaconda3/envs/col865/bin/pip install pandas"
   ]
  },
  {
   "cell_type": "code",
   "execution_count": 10,
   "id": "3ff304f2",
   "metadata": {},
   "outputs": [],
   "source": [
    "# ! /home/rajat1/anaconda3/envs/col865/bin/pip install numpy"
   ]
  },
  {
   "cell_type": "code",
   "execution_count": 11,
   "id": "b1616a67",
   "metadata": {},
   "outputs": [],
   "source": [
    "import pandas as pd\n",
    "import numpy as np"
   ]
  },
  {
   "cell_type": "code",
   "execution_count": 12,
   "id": "a0bca8cc",
   "metadata": {},
   "outputs": [],
   "source": [
    "dataset_np = np.array(dataset)"
   ]
  },
  {
   "cell_type": "code",
   "execution_count": 13,
   "id": "76a90108",
   "metadata": {},
   "outputs": [
    {
     "data": {
      "text/plain": [
       "(2916697, 10)"
      ]
     },
     "execution_count": 13,
     "metadata": {},
     "output_type": "execute_result"
    }
   ],
   "source": [
    "dataset_np.shape"
   ]
  },
  {
   "cell_type": "code",
   "execution_count": 14,
   "id": "272bd098",
   "metadata": {},
   "outputs": [
    {
     "data": {
      "text/plain": [
       "array([['111K8kZAEnJg245r2cM6y9zgJGHZtJPy6', '2017', '11', ..., '2',\n",
       "        '100050000', 'princetonCerber'],\n",
       "       ['1123pJv8jzeFQaCV4w644pzQJzVWay2zcA', '2016', '132', ..., '1',\n",
       "        '100000000', 'princetonLocky'],\n",
       "       ['112536im7hy6wtKbpH1qYDWtTyMRAcA2p7', '2016', '246', ..., '2',\n",
       "        '200000000', 'princetonCerber'],\n",
       "       ...,\n",
       "       ['1KYiKJEfdJtap9QX2v9BXJMpz2SfU4pgZw', '2018', '330', ..., '35',\n",
       "        '2398267286', 'white'],\n",
       "       ['15iPUJsRNZQZHmZZVwmQ63srsmughCXV4a', '2018', '330', ..., '1',\n",
       "        '178042670', 'white'],\n",
       "       ['3LFFBxp15h9KSFtaw55np8eP5fv6kdK17e', '2018', '330', ..., '2',\n",
       "        '112350000', 'white']], dtype='<U34')"
      ]
     },
     "execution_count": 14,
     "metadata": {},
     "output_type": "execute_result"
    }
   ],
   "source": [
    "dataset_np"
   ]
  },
  {
   "cell_type": "code",
   "execution_count": 15,
   "id": "0a5e21e7",
   "metadata": {},
   "outputs": [],
   "source": [
    "dataset_without_id=np.delete(dataset_np,0, axis=1)"
   ]
  },
  {
   "cell_type": "code",
   "execution_count": 16,
   "id": "9f41245b",
   "metadata": {},
   "outputs": [
    {
     "data": {
      "text/plain": [
       "array([['2017', '11', '18', ..., '2', '100050000', 'princetonCerber'],\n",
       "       ['2016', '132', '44', ..., '1', '100000000', 'princetonLocky'],\n",
       "       ['2016', '246', '0', ..., '2', '200000000', 'princetonCerber'],\n",
       "       ...,\n",
       "       ['2018', '330', '2', ..., '35', '2398267286', 'white'],\n",
       "       ['2018', '330', '0', ..., '1', '178042670', 'white'],\n",
       "       ['2018', '330', '144', ..., '2', '112350000', 'white']],\n",
       "      dtype='<U34')"
      ]
     },
     "execution_count": 16,
     "metadata": {},
     "output_type": "execute_result"
    }
   ],
   "source": [
    "dataset_without_id"
   ]
  },
  {
   "cell_type": "code",
   "execution_count": 17,
   "id": "3ed64047",
   "metadata": {},
   "outputs": [
    {
     "data": {
      "text/plain": [
       "(2916697, 9)"
      ]
     },
     "execution_count": 17,
     "metadata": {},
     "output_type": "execute_result"
    }
   ],
   "source": [
    "dataset_without_id.shape"
   ]
  },
  {
   "cell_type": "markdown",
   "id": "9efba424",
   "metadata": {},
   "source": [
    "### Spliting the dataset to test and train"
   ]
  },
  {
   "cell_type": "markdown",
   "id": "0164ae0f",
   "metadata": {},
   "source": [
    "### 1. checking the number of classes"
   ]
  },
  {
   "cell_type": "code",
   "execution_count": 18,
   "id": "a888b6a6",
   "metadata": {},
   "outputs": [
    {
     "data": {
      "text/plain": [
       "['montrealCryptoTorLocker2015',\n",
       " 'princetonCerber',\n",
       " 'montrealXLocker',\n",
       " 'montrealAPT',\n",
       " 'montrealDMALockerv3',\n",
       " 'montrealFlyper',\n",
       " 'montrealJigSaw',\n",
       " 'montrealGlobe',\n",
       " 'montrealWannaCry',\n",
       " 'paduaCryptoWall',\n",
       " 'montrealCryptoLocker',\n",
       " 'montrealComradeCircle',\n",
       " 'montrealCryptConsole',\n",
       " 'white',\n",
       " 'montrealCryptXXX',\n",
       " 'montrealRazy',\n",
       " 'princetonLocky',\n",
       " 'paduaKeRanger',\n",
       " 'montrealGlobev3',\n",
       " 'montrealVenusLocker',\n",
       " 'montrealSamSam',\n",
       " 'montrealDMALocker',\n",
       " 'montrealGlobeImposter',\n",
       " 'montrealSam',\n",
       " 'paduaJigsaw',\n",
       " 'montrealNoobCrypt',\n",
       " 'montrealEDA2',\n",
       " 'montrealXTPLocker',\n",
       " 'montrealXLockerv5.0']"
      ]
     },
     "execution_count": 18,
     "metadata": {},
     "output_type": "execute_result"
    }
   ],
   "source": [
    "classes = list(set(dataset_without_id[:,8]))\n",
    "classes"
   ]
  },
  {
   "cell_type": "markdown",
   "id": "11ffc611",
   "metadata": {},
   "source": [
    "### 2. Checking the distribution of classes"
   ]
  },
  {
   "cell_type": "code",
   "execution_count": 19,
   "id": "84783e4c",
   "metadata": {},
   "outputs": [],
   "source": [
    "classes_dic = {}\n",
    "\n",
    "tmp = dataset_without_id[:,8]\n",
    "\n",
    "\n",
    "for i in tmp:\n",
    "    if i not in classes_dic.keys():\n",
    "        classes_dic[i] = 1\n",
    "    else:\n",
    "        classes_dic[i]+=1"
   ]
  },
  {
   "cell_type": "code",
   "execution_count": 20,
   "id": "6fb3058b",
   "metadata": {},
   "outputs": [
    {
     "data": {
      "text/plain": [
       "{'princetonCerber': 9223,\n",
       " 'princetonLocky': 6625,\n",
       " 'montrealCryptoLocker': 9315,\n",
       " 'montrealCryptXXX': 2419,\n",
       " 'paduaCryptoWall': 12390,\n",
       " 'montrealWannaCry': 28,\n",
       " 'montrealDMALockerv3': 354,\n",
       " 'montrealCryptoTorLocker2015': 55,\n",
       " 'montrealSamSam': 62,\n",
       " 'montrealFlyper': 9,\n",
       " 'montrealNoobCrypt': 483,\n",
       " 'montrealDMALocker': 251,\n",
       " 'montrealGlobe': 32,\n",
       " 'montrealEDA2': 6,\n",
       " 'paduaKeRanger': 10,\n",
       " 'montrealVenusLocker': 7,\n",
       " 'montrealXTPLocker': 8,\n",
       " 'paduaJigsaw': 2,\n",
       " 'montrealGlobev3': 34,\n",
       " 'montrealJigSaw': 4,\n",
       " 'montrealXLockerv5.0': 7,\n",
       " 'montrealXLocker': 1,\n",
       " 'montrealRazy': 13,\n",
       " 'montrealCryptConsole': 7,\n",
       " 'montrealGlobeImposter': 55,\n",
       " 'montrealSam': 1,\n",
       " 'montrealComradeCircle': 1,\n",
       " 'montrealAPT': 11,\n",
       " 'white': 2875284}"
      ]
     },
     "execution_count": 20,
     "metadata": {},
     "output_type": "execute_result"
    }
   ],
   "source": [
    "classes_dic"
   ]
  },
  {
   "cell_type": "code",
   "execution_count": 21,
   "id": "0a50e27f",
   "metadata": {},
   "outputs": [
    {
     "name": "stdout",
     "output_type": "stream",
     "text": [
      "dict_keys(['princetonCerber', 'princetonLocky', 'montrealCryptoLocker', 'montrealCryptXXX', 'paduaCryptoWall', 'montrealWannaCry', 'montrealDMALockerv3', 'montrealCryptoTorLocker2015', 'montrealSamSam', 'montrealFlyper', 'montrealNoobCrypt', 'montrealDMALocker', 'montrealGlobe', 'montrealEDA2', 'paduaKeRanger', 'montrealVenusLocker', 'montrealXTPLocker', 'paduaJigsaw', 'montrealGlobev3', 'montrealJigSaw', 'montrealXLockerv5.0', 'montrealXLocker', 'montrealRazy', 'montrealCryptConsole', 'montrealGlobeImposter', 'montrealSam', 'montrealComradeCircle', 'montrealAPT', 'white'])\n",
      "dict_values([9223, 6625, 9315, 2419, 12390, 28, 354, 55, 62, 9, 483, 251, 32, 6, 10, 7, 8, 2, 34, 4, 7, 1, 13, 7, 55, 1, 1, 11, 2875284])\n"
     ]
    },
    {
     "data": {
      "image/png": "[encoded data removed]",
      "text/plain": [
       "<Figure size 640x480 with 1 Axes>"
      ]
     },
     "metadata": {},
     "output_type": "display_data"
    }
   ],
   "source": [
    "import matplotlib.pyplot as plt\n",
    "import numpy as np\n",
    "\n",
    "x = classes_dic.keys()\n",
    "y = classes_dic.values()\n",
    "\n",
    "print(x)\n",
    "print(y)\n",
    "\n",
    "plt.plot(x, y)\n",
    "plt.show()"
   ]
  },
  {
   "cell_type": "markdown",
   "id": "858be109",
   "metadata": {},
   "source": [
    "Since the distribution of classes is uneven. we need some normalization. And also when we are spliting the dataset we need to split it accordingly so that the distribution will not affect."
   ]
  },
  {
   "cell_type": "markdown",
   "id": "95105bae",
   "metadata": {},
   "source": [
    "### 3. Spliting the dataset"
   ]
  },
  {
   "cell_type": "markdown",
   "id": "9b7a58e4",
   "metadata": {},
   "source": [
    "### 3.1 For each class take X% as the train and Y% as test dataset. If the number of samples are less than 5 the we will consider all the samples for training in that case."
   ]
  },
  {
   "cell_type": "code",
   "execution_count": 22,
   "id": "999b9f17",
   "metadata": {},
   "outputs": [],
   "source": [
    "# ! /home/rajat1/anaconda3/envs/col865/bin/pip install tqdm"
   ]
  },
  {
   "cell_type": "code",
   "execution_count": 23,
   "id": "1a662f2d",
   "metadata": {},
   "outputs": [],
   "source": [
    "# ! /home/rajat1/anaconda3/envs/col865/bin/pip install sklearn"
   ]
  },
  {
   "cell_type": "code",
   "execution_count": 24,
   "id": "6abf9f5c",
   "metadata": {},
   "outputs": [],
   "source": [
    "train_per = 60\n",
    "test_per = 100 - train_per\n",
    "threshold = 5"
   ]
  },
  {
   "cell_type": "code",
   "execution_count": 25,
   "id": "3c6f4c4a",
   "metadata": {},
   "outputs": [],
   "source": [
    "classes_dic_data = {}\n",
    "\n",
    "tmp = dataset_without_id[:,:]\n",
    "\n",
    "\n",
    "for i in tmp:\n",
    "    if i[8] not in classes_dic_data.keys():\n",
    "        classes_dic_data[i[8]] = []\n",
    "    \n",
    "    classes_dic_data[i[8]].append(i)"
   ]
  },
  {
   "cell_type": "code",
   "execution_count": 26,
   "id": "f54df1ee",
   "metadata": {},
   "outputs": [
    {
     "name": "stdout",
     "output_type": "stream",
     "text": [
      "princetonCerber 9223\n",
      "princetonLocky 6625\n",
      "montrealCryptoLocker 9315\n",
      "montrealCryptXXX 2419\n",
      "paduaCryptoWall 12390\n",
      "montrealWannaCry 28\n",
      "montrealDMALockerv3 354\n",
      "montrealCryptoTorLocker2015 55\n",
      "montrealSamSam 62\n",
      "montrealFlyper 9\n",
      "montrealNoobCrypt 483\n",
      "montrealDMALocker 251\n",
      "montrealGlobe 32\n",
      "montrealEDA2 6\n",
      "paduaKeRanger 10\n",
      "montrealVenusLocker 7\n",
      "montrealXTPLocker 8\n",
      "paduaJigsaw 2\n",
      "montrealGlobev3 34\n",
      "montrealJigSaw 4\n",
      "montrealXLockerv5.0 7\n",
      "montrealXLocker 1\n",
      "montrealRazy 13\n",
      "montrealCryptConsole 7\n",
      "montrealGlobeImposter 55\n",
      "montrealSam 1\n",
      "montrealComradeCircle 1\n",
      "montrealAPT 11\n",
      "white 2875284\n"
     ]
    }
   ],
   "source": [
    "for i in classes_dic_data.keys():\n",
    "    print(i, len(classes_dic_data[i]))"
   ]
  },
  {
   "cell_type": "code",
   "execution_count": 27,
   "id": "d8078a97",
   "metadata": {},
   "outputs": [
    {
     "name": "stdout",
     "output_type": "stream",
     "text": [
      "princetonCerber 9223\n",
      "princetonLocky 6625\n",
      "montrealCryptoLocker 9315\n",
      "montrealCryptXXX 2419\n",
      "paduaCryptoWall 12390\n",
      "montrealWannaCry 28\n",
      "montrealDMALockerv3 354\n",
      "montrealCryptoTorLocker2015 55\n",
      "montrealSamSam 62\n",
      "montrealFlyper 9\n",
      "montrealNoobCrypt 483\n",
      "montrealDMALocker 251\n",
      "montrealGlobe 32\n",
      "montrealEDA2 6\n",
      "paduaKeRanger 10\n",
      "montrealVenusLocker 7\n",
      "montrealXTPLocker 8\n",
      "paduaJigsaw 2\n",
      "montrealGlobev3 34\n",
      "montrealJigSaw 4\n",
      "montrealXLockerv5.0 7\n",
      "montrealXLocker 1\n",
      "montrealRazy 13\n",
      "montrealCryptConsole 7\n",
      "montrealGlobeImposter 55\n",
      "montrealSam 1\n",
      "montrealComradeCircle 1\n",
      "montrealAPT 11\n",
      "white 2875284\n"
     ]
    }
   ],
   "source": [
    "import sklearn\n",
    "import sklearn.model_selection\n",
    "\n",
    "test = []\n",
    "train = []\n",
    "\n",
    "\n",
    "import random\n",
    "\n",
    "for i in classes_dic_data.keys():\n",
    "    \n",
    "    print(i, len(classes_dic_data[i]))\n",
    "    \n",
    "    if len(classes_dic_data[i]) < threshold:\n",
    "        \n",
    "        for j in classes_dic_data[i]:\n",
    "            train.append(j)\n",
    "            \n",
    "    else:\n",
    "\n",
    "        train_t, test_t = sklearn.model_selection.train_test_split(classes_dic_data[i], shuffle=True, test_size = test_per/100)\n",
    "        \n",
    "        for j in train_t:\n",
    "            train.append(j)\n",
    "        \n",
    "        for j in test_t:\n",
    "            test.append(j)"
   ]
  },
  {
   "cell_type": "code",
   "execution_count": 28,
   "id": "e16ccd32",
   "metadata": {},
   "outputs": [
    {
     "name": "stdout",
     "output_type": "stream",
     "text": [
      "Train 1750013\n",
      "Test 1166684\n",
      "Total 2916697\n"
     ]
    }
   ],
   "source": [
    "print(\"Train\",len(train))\n",
    "print(\"Test\",len(test)) \n",
    "print(\"Total\", len(train)+len(test)) # 2916697"
   ]
  },
  {
   "cell_type": "code",
   "execution_count": 29,
   "id": "629a6b97",
   "metadata": {},
   "outputs": [],
   "source": [
    "train = np.array(train)\n",
    "test = np.array(test)"
   ]
  },
  {
   "cell_type": "markdown",
   "id": "1cd7ee98",
   "metadata": {},
   "source": [
    "### 3.2 Dataset is preapared"
   ]
  },
  {
   "cell_type": "code",
   "execution_count": 30,
   "id": "d2f85c43",
   "metadata": {},
   "outputs": [],
   "source": [
    "train_X = train[:,:-1]\n",
    "train_y = train[:,-1]\n",
    "test_X = test[:,:-1]\n",
    "test_y = test[:,-1]"
   ]
  },
  {
   "cell_type": "markdown",
   "id": "43e6f5d3",
   "metadata": {},
   "source": [
    "## Running the model"
   ]
  },
  {
   "cell_type": "code",
   "execution_count": 31,
   "id": "650ef1db",
   "metadata": {},
   "outputs": [],
   "source": [
    "classes_id = {}\n",
    "classes_name = list(classes_dic_data.keys())\n",
    "\n",
    "for i in range(len(classes_name)):\n",
    "    classes_id[classes_name[i]]=i\n",
    "\n",
    "for i in range(train_y.shape[0]):\n",
    "    train_y[i] = classes_id[train_y[i]]\n",
    "    "
   ]
  },
  {
   "cell_type": "code",
   "execution_count": 32,
   "id": "f90dc423",
   "metadata": {},
   "outputs": [
    {
     "data": {
      "text/plain": [
       "{'princetonCerber': 0,\n",
       " 'princetonLocky': 1,\n",
       " 'montrealCryptoLocker': 2,\n",
       " 'montrealCryptXXX': 3,\n",
       " 'paduaCryptoWall': 4,\n",
       " 'montrealWannaCry': 5,\n",
       " 'montrealDMALockerv3': 6,\n",
       " 'montrealCryptoTorLocker2015': 7,\n",
       " 'montrealSamSam': 8,\n",
       " 'montrealFlyper': 9,\n",
       " 'montrealNoobCrypt': 10,\n",
       " 'montrealDMALocker': 11,\n",
       " 'montrealGlobe': 12,\n",
       " 'montrealEDA2': 13,\n",
       " 'paduaKeRanger': 14,\n",
       " 'montrealVenusLocker': 15,\n",
       " 'montrealXTPLocker': 16,\n",
       " 'paduaJigsaw': 17,\n",
       " 'montrealGlobev3': 18,\n",
       " 'montrealJigSaw': 19,\n",
       " 'montrealXLockerv5.0': 20,\n",
       " 'montrealXLocker': 21,\n",
       " 'montrealRazy': 22,\n",
       " 'montrealCryptConsole': 23,\n",
       " 'montrealGlobeImposter': 24,\n",
       " 'montrealSam': 25,\n",
       " 'montrealComradeCircle': 26,\n",
       " 'montrealAPT': 27,\n",
       " 'white': 28}"
      ]
     },
     "execution_count": 32,
     "metadata": {},
     "output_type": "execute_result"
    }
   ],
   "source": [
    "classes_id"
   ]
  },
  {
   "cell_type": "code",
   "execution_count": 33,
   "id": "59a80e75",
   "metadata": {},
   "outputs": [],
   "source": [
    "arr_y = train_y.astype('int64')"
   ]
  },
  {
   "cell_type": "code",
   "execution_count": 34,
   "id": "22c63ab3",
   "metadata": {},
   "outputs": [],
   "source": [
    "arr_X = train_X.astype('float64')"
   ]
  },
  {
   "cell_type": "code",
   "execution_count": 35,
   "id": "c6d43360",
   "metadata": {},
   "outputs": [
    {
     "name": "stdout",
     "output_type": "stream",
     "text": [
      "[2.01700000e+03 3.00000000e+00 1.44000000e+02 1.33539566e-02\n",
      " 4.17300000e+03 0.00000000e+00 2.00000000e+00 5.60000000e+07]\n"
     ]
    }
   ],
   "source": [
    "print(arr_X[0])"
   ]
  },
  {
   "cell_type": "code",
   "execution_count": null,
   "id": "f3f80707",
   "metadata": {},
   "outputs": [],
   "source": []
  },
  {
   "cell_type": "markdown",
   "id": "3b1d17ea",
   "metadata": {},
   "source": [
    "### 1. training the model"
   ]
  },
  {
   "cell_type": "code",
   "execution_count": null,
   "id": "41097638",
   "metadata": {},
   "outputs": [],
   "source": []
  },
  {
   "cell_type": "code",
   "execution_count": 36,
   "id": "a886a355",
   "metadata": {},
   "outputs": [],
   "source": [
    "from sklearn.ensemble import BaggingRegressor\n",
    "from sklearn.model_selection import cross_val_score\n",
    "\n",
    "from scikit_obliquetree.HHCART import HouseHolderCART\n",
    "from scikit_obliquetree.segmentor import MSE, MeanSegmentor\n",
    "\n",
    "reg = BaggingRegressor(\n",
    "    HouseHolderCART(MSE(), MeanSegmentor(), max_depth=3),\n",
    "    n_estimators=100,\n",
    "    n_jobs=-1,\n",
    ")"
   ]
  },
  {
   "cell_type": "code",
   "execution_count": 37,
   "id": "19a6e698",
   "metadata": {},
   "outputs": [
    {
     "data": {
      "text/plain": [
       "BaggingRegressor(base_estimator=HouseHolderCART(impurity=<scikit_obliquetree.segmentor.MSE object at 0x7f2bdf6d1b10>,\n",
       "                                                segmentor=<scikit_obliquetree.segmentor.MeanSegmentor object at 0x7f2bdf6d1f90>),\n",
       "                 n_estimators=100, n_jobs=-1)"
      ]
     },
     "execution_count": 37,
     "metadata": {},
     "output_type": "execute_result"
    }
   ],
   "source": [
    "reg.fit(arr_X, arr_y)"
   ]
  },
  {
   "cell_type": "code",
   "execution_count": 38,
   "id": "adaa7cce",
   "metadata": {},
   "outputs": [],
   "source": [
    "arr_t_X = test_X.astype('float64')\n",
    "\n",
    "for i in range(test_y.shape[0]):\n",
    "    test_y[i] = classes_id[test_y[i]]\n",
    "\n",
    "arr_t_y = test_y.astype('int64')"
   ]
  },
  {
   "cell_type": "code",
   "execution_count": 39,
   "id": "02e260b7",
   "metadata": {
    "scrolled": true
   },
   "outputs": [
    {
     "name": "stderr",
     "output_type": "stream",
     "text": [
      "/home/rajat1/anaconda3/envs/col865/lib/python3.7/site-packages/joblib/externals/loky/process_executor.py:703: UserWarning: A worker stopped while some jobs were given to the executor. This can be caused by a too short worker timeout or by a memory leak.\n",
      "  \"timeout or by a memory leak.\", UserWarning\n"
     ]
    },
    {
     "ename": "KeyboardInterrupt",
     "evalue": "",
     "output_type": "error",
     "traceback": [
      "\u001b[0;31m---------------------------------------------------------------------------\u001b[0m",
      "\u001b[0;31mKeyboardInterrupt\u001b[0m                         Traceback (most recent call last)",
      "\u001b[0;32m~/anaconda3/envs/col865/lib/python3.7/site-packages/joblib/parallel.py\u001b[0m in \u001b[0;36mretrieve\u001b[0;34m(self)\u001b[0m\n\u001b[1;32m    974\u001b[0m                 \u001b[0;32mif\u001b[0m \u001b[0mgetattr\u001b[0m\u001b[0;34m(\u001b[0m\u001b[0mself\u001b[0m\u001b[0;34m.\u001b[0m\u001b[0m_backend\u001b[0m\u001b[0;34m,\u001b[0m \u001b[0;34m'supports_timeout'\u001b[0m\u001b[0;34m,\u001b[0m \u001b[0;32mFalse\u001b[0m\u001b[0;34m)\u001b[0m\u001b[0;34m:\u001b[0m\u001b[0;34m\u001b[0m\u001b[0;34m\u001b[0m\u001b[0m\n\u001b[0;32m--> 975\u001b[0;31m                     \u001b[0mself\u001b[0m\u001b[0;34m.\u001b[0m\u001b[0m_output\u001b[0m\u001b[0;34m.\u001b[0m\u001b[0mextend\u001b[0m\u001b[0;34m(\u001b[0m\u001b[0mjob\u001b[0m\u001b[0;34m.\u001b[0m\u001b[0mget\u001b[0m\u001b[0;34m(\u001b[0m\u001b[0mtimeout\u001b[0m\u001b[0;34m=\u001b[0m\u001b[0mself\u001b[0m\u001b[0;34m.\u001b[0m\u001b[0mtimeout\u001b[0m\u001b[0;34m)\u001b[0m\u001b[0;34m)\u001b[0m\u001b[0;34m\u001b[0m\u001b[0;34m\u001b[0m\u001b[0m\n\u001b[0m\u001b[1;32m    976\u001b[0m                 \u001b[0;32melse\u001b[0m\u001b[0;34m:\u001b[0m\u001b[0;34m\u001b[0m\u001b[0;34m\u001b[0m\u001b[0m\n",
      "\u001b[0;32m~/anaconda3/envs/col865/lib/python3.7/site-packages/joblib/_parallel_backends.py\u001b[0m in \u001b[0;36mwrap_future_result\u001b[0;34m(future, timeout)\u001b[0m\n\u001b[1;32m    566\u001b[0m         \u001b[0;32mtry\u001b[0m\u001b[0;34m:\u001b[0m\u001b[0;34m\u001b[0m\u001b[0;34m\u001b[0m\u001b[0m\n\u001b[0;32m--> 567\u001b[0;31m             \u001b[0;32mreturn\u001b[0m \u001b[0mfuture\u001b[0m\u001b[0;34m.\u001b[0m\u001b[0mresult\u001b[0m\u001b[0;34m(\u001b[0m\u001b[0mtimeout\u001b[0m\u001b[0;34m=\u001b[0m\u001b[0mtimeout\u001b[0m\u001b[0;34m)\u001b[0m\u001b[0;34m\u001b[0m\u001b[0;34m\u001b[0m\u001b[0m\n\u001b[0m\u001b[1;32m    568\u001b[0m         \u001b[0;32mexcept\u001b[0m \u001b[0mCfTimeoutError\u001b[0m \u001b[0;32mas\u001b[0m \u001b[0me\u001b[0m\u001b[0;34m:\u001b[0m\u001b[0;34m\u001b[0m\u001b[0;34m\u001b[0m\u001b[0m\n",
      "\u001b[0;32m~/anaconda3/envs/col865/lib/python3.7/concurrent/futures/_base.py\u001b[0m in \u001b[0;36mresult\u001b[0;34m(self, timeout)\u001b[0m\n\u001b[1;32m    429\u001b[0m \u001b[0;34m\u001b[0m\u001b[0m\n\u001b[0;32m--> 430\u001b[0;31m             \u001b[0mself\u001b[0m\u001b[0;34m.\u001b[0m\u001b[0m_condition\u001b[0m\u001b[0;34m.\u001b[0m\u001b[0mwait\u001b[0m\u001b[0;34m(\u001b[0m\u001b[0mtimeout\u001b[0m\u001b[0;34m)\u001b[0m\u001b[0;34m\u001b[0m\u001b[0;34m\u001b[0m\u001b[0m\n\u001b[0m\u001b[1;32m    431\u001b[0m \u001b[0;34m\u001b[0m\u001b[0m\n",
      "\u001b[0;32m~/anaconda3/envs/col865/lib/python3.7/threading.py\u001b[0m in \u001b[0;36mwait\u001b[0;34m(self, timeout)\u001b[0m\n\u001b[1;32m    295\u001b[0m             \u001b[0;32mif\u001b[0m \u001b[0mtimeout\u001b[0m \u001b[0;32mis\u001b[0m \u001b[0;32mNone\u001b[0m\u001b[0;34m:\u001b[0m\u001b[0;34m\u001b[0m\u001b[0;34m\u001b[0m\u001b[0m\n\u001b[0;32m--> 296\u001b[0;31m                 \u001b[0mwaiter\u001b[0m\u001b[0;34m.\u001b[0m\u001b[0macquire\u001b[0m\u001b[0;34m(\u001b[0m\u001b[0;34m)\u001b[0m\u001b[0;34m\u001b[0m\u001b[0;34m\u001b[0m\u001b[0m\n\u001b[0m\u001b[1;32m    297\u001b[0m                 \u001b[0mgotit\u001b[0m \u001b[0;34m=\u001b[0m \u001b[0;32mTrue\u001b[0m\u001b[0;34m\u001b[0m\u001b[0;34m\u001b[0m\u001b[0m\n",
      "\u001b[0;31mKeyboardInterrupt\u001b[0m: ",
      "\nDuring handling of the above exception, another exception occurred:\n",
      "\u001b[0;31mKeyboardInterrupt\u001b[0m                         Traceback (most recent call last)",
      "\u001b[0;32m~/anaconda3/envs/col865/lib/python3.7/site-packages/joblib/parallel.py\u001b[0m in \u001b[0;36m__call__\u001b[0;34m(self, iterable)\u001b[0m\n\u001b[1;32m   1097\u001b[0m             \u001b[0;32mwith\u001b[0m \u001b[0mself\u001b[0m\u001b[0;34m.\u001b[0m\u001b[0m_backend\u001b[0m\u001b[0;34m.\u001b[0m\u001b[0mretrieval_context\u001b[0m\u001b[0;34m(\u001b[0m\u001b[0;34m)\u001b[0m\u001b[0;34m:\u001b[0m\u001b[0;34m\u001b[0m\u001b[0;34m\u001b[0m\u001b[0m\n\u001b[0;32m-> 1098\u001b[0;31m                 \u001b[0mself\u001b[0m\u001b[0;34m.\u001b[0m\u001b[0mretrieve\u001b[0m\u001b[0;34m(\u001b[0m\u001b[0;34m)\u001b[0m\u001b[0;34m\u001b[0m\u001b[0;34m\u001b[0m\u001b[0m\n\u001b[0m\u001b[1;32m   1099\u001b[0m             \u001b[0;31m# Make sure that we get a last message telling us we are done\u001b[0m\u001b[0;34m\u001b[0m\u001b[0;34m\u001b[0m\u001b[0;34m\u001b[0m\u001b[0m\n",
      "\u001b[0;32m~/anaconda3/envs/col865/lib/python3.7/site-packages/joblib/parallel.py\u001b[0m in \u001b[0;36mretrieve\u001b[0;34m(self)\u001b[0m\n\u001b[1;32m    996\u001b[0m                     \u001b[0mensure_ready\u001b[0m \u001b[0;34m=\u001b[0m \u001b[0mself\u001b[0m\u001b[0;34m.\u001b[0m\u001b[0m_managed_backend\u001b[0m\u001b[0;34m\u001b[0m\u001b[0;34m\u001b[0m\u001b[0m\n\u001b[0;32m--> 997\u001b[0;31m                     \u001b[0mbackend\u001b[0m\u001b[0;34m.\u001b[0m\u001b[0mabort_everything\u001b[0m\u001b[0;34m(\u001b[0m\u001b[0mensure_ready\u001b[0m\u001b[0;34m=\u001b[0m\u001b[0mensure_ready\u001b[0m\u001b[0;34m)\u001b[0m\u001b[0;34m\u001b[0m\u001b[0;34m\u001b[0m\u001b[0m\n\u001b[0m\u001b[1;32m    998\u001b[0m                 \u001b[0;32mraise\u001b[0m\u001b[0;34m\u001b[0m\u001b[0;34m\u001b[0m\u001b[0m\n",
      "\u001b[0;32m~/anaconda3/envs/col865/lib/python3.7/site-packages/joblib/_parallel_backends.py\u001b[0m in \u001b[0;36mabort_everything\u001b[0;34m(self, ensure_ready)\u001b[0m\n\u001b[1;32m    585\u001b[0m         \"\"\"\n\u001b[0;32m--> 586\u001b[0;31m         \u001b[0mself\u001b[0m\u001b[0;34m.\u001b[0m\u001b[0m_workers\u001b[0m\u001b[0;34m.\u001b[0m\u001b[0mterminate\u001b[0m\u001b[0;34m(\u001b[0m\u001b[0mkill_workers\u001b[0m\u001b[0;34m=\u001b[0m\u001b[0;32mTrue\u001b[0m\u001b[0;34m)\u001b[0m\u001b[0;34m\u001b[0m\u001b[0;34m\u001b[0m\u001b[0m\n\u001b[0m\u001b[1;32m    587\u001b[0m         \u001b[0mself\u001b[0m\u001b[0;34m.\u001b[0m\u001b[0m_workers\u001b[0m \u001b[0;34m=\u001b[0m \u001b[0;32mNone\u001b[0m\u001b[0;34m\u001b[0m\u001b[0;34m\u001b[0m\u001b[0m\n",
      "\u001b[0;32m~/anaconda3/envs/col865/lib/python3.7/site-packages/joblib/executor.py\u001b[0m in \u001b[0;36mterminate\u001b[0;34m(self, kill_workers)\u001b[0m\n\u001b[1;32m     73\u001b[0m     \u001b[0;32mdef\u001b[0m \u001b[0mterminate\u001b[0m\u001b[0;34m(\u001b[0m\u001b[0mself\u001b[0m\u001b[0;34m,\u001b[0m \u001b[0mkill_workers\u001b[0m\u001b[0;34m=\u001b[0m\u001b[0;32mFalse\u001b[0m\u001b[0;34m)\u001b[0m\u001b[0;34m:\u001b[0m\u001b[0;34m\u001b[0m\u001b[0;34m\u001b[0m\u001b[0m\n\u001b[0;32m---> 74\u001b[0;31m         \u001b[0mself\u001b[0m\u001b[0;34m.\u001b[0m\u001b[0mshutdown\u001b[0m\u001b[0;34m(\u001b[0m\u001b[0mkill_workers\u001b[0m\u001b[0;34m=\u001b[0m\u001b[0mkill_workers\u001b[0m\u001b[0;34m)\u001b[0m\u001b[0;34m\u001b[0m\u001b[0;34m\u001b[0m\u001b[0m\n\u001b[0m\u001b[1;32m     75\u001b[0m         \u001b[0;32mif\u001b[0m \u001b[0mkill_workers\u001b[0m\u001b[0;34m:\u001b[0m\u001b[0;34m\u001b[0m\u001b[0;34m\u001b[0m\u001b[0m\n",
      "\u001b[0;32m~/anaconda3/envs/col865/lib/python3.7/site-packages/joblib/externals/loky/process_executor.py\u001b[0m in \u001b[0;36mshutdown\u001b[0;34m(self, wait, kill_workers)\u001b[0m\n\u001b[1;32m   1198\u001b[0m         \u001b[0;32mif\u001b[0m \u001b[0mexecutor_manager_thread\u001b[0m \u001b[0;32mis\u001b[0m \u001b[0;32mnot\u001b[0m \u001b[0;32mNone\u001b[0m \u001b[0;32mand\u001b[0m \u001b[0mwait\u001b[0m\u001b[0;34m:\u001b[0m\u001b[0;34m\u001b[0m\u001b[0;34m\u001b[0m\u001b[0m\n\u001b[0;32m-> 1199\u001b[0;31m             \u001b[0mexecutor_manager_thread\u001b[0m\u001b[0;34m.\u001b[0m\u001b[0mjoin\u001b[0m\u001b[0;34m(\u001b[0m\u001b[0;34m)\u001b[0m\u001b[0;34m\u001b[0m\u001b[0;34m\u001b[0m\u001b[0m\n\u001b[0m\u001b[1;32m   1200\u001b[0m \u001b[0;34m\u001b[0m\u001b[0m\n",
      "\u001b[0;32m~/anaconda3/envs/col865/lib/python3.7/threading.py\u001b[0m in \u001b[0;36mjoin\u001b[0;34m(self, timeout)\u001b[0m\n\u001b[1;32m   1043\u001b[0m         \u001b[0;32mif\u001b[0m \u001b[0mtimeout\u001b[0m \u001b[0;32mis\u001b[0m \u001b[0;32mNone\u001b[0m\u001b[0;34m:\u001b[0m\u001b[0;34m\u001b[0m\u001b[0;34m\u001b[0m\u001b[0m\n\u001b[0;32m-> 1044\u001b[0;31m             \u001b[0mself\u001b[0m\u001b[0;34m.\u001b[0m\u001b[0m_wait_for_tstate_lock\u001b[0m\u001b[0;34m(\u001b[0m\u001b[0;34m)\u001b[0m\u001b[0;34m\u001b[0m\u001b[0;34m\u001b[0m\u001b[0m\n\u001b[0m\u001b[1;32m   1045\u001b[0m         \u001b[0;32melse\u001b[0m\u001b[0;34m:\u001b[0m\u001b[0;34m\u001b[0m\u001b[0;34m\u001b[0m\u001b[0m\n",
      "\u001b[0;32m~/anaconda3/envs/col865/lib/python3.7/threading.py\u001b[0m in \u001b[0;36m_wait_for_tstate_lock\u001b[0;34m(self, block, timeout)\u001b[0m\n\u001b[1;32m   1059\u001b[0m             \u001b[0;32massert\u001b[0m \u001b[0mself\u001b[0m\u001b[0;34m.\u001b[0m\u001b[0m_is_stopped\u001b[0m\u001b[0;34m\u001b[0m\u001b[0;34m\u001b[0m\u001b[0m\n\u001b[0;32m-> 1060\u001b[0;31m         \u001b[0;32melif\u001b[0m \u001b[0mlock\u001b[0m\u001b[0;34m.\u001b[0m\u001b[0macquire\u001b[0m\u001b[0;34m(\u001b[0m\u001b[0mblock\u001b[0m\u001b[0;34m,\u001b[0m \u001b[0mtimeout\u001b[0m\u001b[0;34m)\u001b[0m\u001b[0;34m:\u001b[0m\u001b[0;34m\u001b[0m\u001b[0;34m\u001b[0m\u001b[0m\n\u001b[0m\u001b[1;32m   1061\u001b[0m             \u001b[0mlock\u001b[0m\u001b[0;34m.\u001b[0m\u001b[0mrelease\u001b[0m\u001b[0;34m(\u001b[0m\u001b[0;34m)\u001b[0m\u001b[0;34m\u001b[0m\u001b[0;34m\u001b[0m\u001b[0m\n",
      "\u001b[0;31mKeyboardInterrupt\u001b[0m: ",
      "\nDuring handling of the above exception, another exception occurred:\n",
      "\u001b[0;31mKeyboardInterrupt\u001b[0m                         Traceback (most recent call last)",
      "\u001b[0;32m/tmp/ipykernel_21548/2845521352.py\u001b[0m in \u001b[0;36m<module>\u001b[0;34m\u001b[0m\n\u001b[0;32m----> 1\u001b[0;31m \u001b[0mprint\u001b[0m\u001b[0;34m(\u001b[0m\u001b[0mreg\u001b[0m\u001b[0;34m.\u001b[0m\u001b[0mpredict\u001b[0m\u001b[0;34m(\u001b[0m\u001b[0;34m[\u001b[0m\u001b[0marr_t_X\u001b[0m\u001b[0;34m[\u001b[0m\u001b[0;36m0\u001b[0m\u001b[0;34m]\u001b[0m\u001b[0;34m]\u001b[0m\u001b[0;34m)\u001b[0m\u001b[0;34m)\u001b[0m\u001b[0;34m\u001b[0m\u001b[0;34m\u001b[0m\u001b[0m\n\u001b[0m\u001b[1;32m      2\u001b[0m \u001b[0mprint\u001b[0m\u001b[0;34m(\u001b[0m\u001b[0mtest_y\u001b[0m\u001b[0;34m[\u001b[0m\u001b[0;36m0\u001b[0m\u001b[0;34m]\u001b[0m\u001b[0;34m)\u001b[0m\u001b[0;34m\u001b[0m\u001b[0;34m\u001b[0m\u001b[0m\n",
      "\u001b[0;32m~/anaconda3/envs/col865/lib/python3.7/site-packages/sklearn/ensemble/_bagging.py\u001b[0m in \u001b[0;36mpredict\u001b[0;34m(self, X)\u001b[0m\n\u001b[1;32m   1133\u001b[0m                 \u001b[0mX\u001b[0m\u001b[0;34m,\u001b[0m\u001b[0;34m\u001b[0m\u001b[0;34m\u001b[0m\u001b[0m\n\u001b[1;32m   1134\u001b[0m             )\n\u001b[0;32m-> 1135\u001b[0;31m             \u001b[0;32mfor\u001b[0m \u001b[0mi\u001b[0m \u001b[0;32min\u001b[0m \u001b[0mrange\u001b[0m\u001b[0;34m(\u001b[0m\u001b[0mn_jobs\u001b[0m\u001b[0;34m)\u001b[0m\u001b[0;34m\u001b[0m\u001b[0;34m\u001b[0m\u001b[0m\n\u001b[0m\u001b[1;32m   1136\u001b[0m         )\n\u001b[1;32m   1137\u001b[0m \u001b[0;34m\u001b[0m\u001b[0m\n",
      "\u001b[0;32m~/anaconda3/envs/col865/lib/python3.7/site-packages/joblib/parallel.py\u001b[0m in \u001b[0;36m__call__\u001b[0;34m(self, iterable)\u001b[0m\n\u001b[1;32m   1106\u001b[0m                 \u001b[0mself\u001b[0m\u001b[0;34m.\u001b[0m\u001b[0m_backend\u001b[0m\u001b[0;34m.\u001b[0m\u001b[0mstop_call\u001b[0m\u001b[0;34m(\u001b[0m\u001b[0;34m)\u001b[0m\u001b[0;34m\u001b[0m\u001b[0;34m\u001b[0m\u001b[0m\n\u001b[1;32m   1107\u001b[0m             \u001b[0;32mif\u001b[0m \u001b[0;32mnot\u001b[0m \u001b[0mself\u001b[0m\u001b[0;34m.\u001b[0m\u001b[0m_managed_backend\u001b[0m\u001b[0;34m:\u001b[0m\u001b[0;34m\u001b[0m\u001b[0;34m\u001b[0m\u001b[0m\n\u001b[0;32m-> 1108\u001b[0;31m                 \u001b[0mself\u001b[0m\u001b[0;34m.\u001b[0m\u001b[0m_terminate_backend\u001b[0m\u001b[0;34m(\u001b[0m\u001b[0;34m)\u001b[0m\u001b[0;34m\u001b[0m\u001b[0;34m\u001b[0m\u001b[0m\n\u001b[0m\u001b[1;32m   1109\u001b[0m             \u001b[0mself\u001b[0m\u001b[0;34m.\u001b[0m\u001b[0m_jobs\u001b[0m \u001b[0;34m=\u001b[0m \u001b[0mlist\u001b[0m\u001b[0;34m(\u001b[0m\u001b[0;34m)\u001b[0m\u001b[0;34m\u001b[0m\u001b[0;34m\u001b[0m\u001b[0m\n\u001b[1;32m   1110\u001b[0m             \u001b[0mself\u001b[0m\u001b[0;34m.\u001b[0m\u001b[0m_pickle_cache\u001b[0m \u001b[0;34m=\u001b[0m \u001b[0;32mNone\u001b[0m\u001b[0;34m\u001b[0m\u001b[0;34m\u001b[0m\u001b[0m\n",
      "\u001b[0;32m~/anaconda3/envs/col865/lib/python3.7/site-packages/joblib/parallel.py\u001b[0m in \u001b[0;36m_terminate_backend\u001b[0;34m(self)\u001b[0m\n\u001b[1;32m    797\u001b[0m     \u001b[0;32mdef\u001b[0m \u001b[0m_terminate_backend\u001b[0m\u001b[0;34m(\u001b[0m\u001b[0mself\u001b[0m\u001b[0;34m)\u001b[0m\u001b[0;34m:\u001b[0m\u001b[0;34m\u001b[0m\u001b[0;34m\u001b[0m\u001b[0m\n\u001b[1;32m    798\u001b[0m         \u001b[0;32mif\u001b[0m \u001b[0mself\u001b[0m\u001b[0;34m.\u001b[0m\u001b[0m_backend\u001b[0m \u001b[0;32mis\u001b[0m \u001b[0;32mnot\u001b[0m \u001b[0;32mNone\u001b[0m\u001b[0;34m:\u001b[0m\u001b[0;34m\u001b[0m\u001b[0;34m\u001b[0m\u001b[0m\n\u001b[0;32m--> 799\u001b[0;31m             \u001b[0mself\u001b[0m\u001b[0;34m.\u001b[0m\u001b[0m_backend\u001b[0m\u001b[0;34m.\u001b[0m\u001b[0mterminate\u001b[0m\u001b[0;34m(\u001b[0m\u001b[0;34m)\u001b[0m\u001b[0;34m\u001b[0m\u001b[0;34m\u001b[0m\u001b[0m\n\u001b[0m\u001b[1;32m    800\u001b[0m \u001b[0;34m\u001b[0m\u001b[0m\n\u001b[1;32m    801\u001b[0m     \u001b[0;32mdef\u001b[0m \u001b[0m_dispatch\u001b[0m\u001b[0;34m(\u001b[0m\u001b[0mself\u001b[0m\u001b[0;34m,\u001b[0m \u001b[0mbatch\u001b[0m\u001b[0;34m)\u001b[0m\u001b[0;34m:\u001b[0m\u001b[0;34m\u001b[0m\u001b[0;34m\u001b[0m\u001b[0m\n",
      "\u001b[0;32m~/anaconda3/envs/col865/lib/python3.7/site-packages/joblib/_parallel_backends.py\u001b[0m in \u001b[0;36mterminate\u001b[0;34m(self)\u001b[0m\n\u001b[1;32m    575\u001b[0m             \u001b[0;31m# created. This 'hack' requires a private, low-level operation.\u001b[0m\u001b[0;34m\u001b[0m\u001b[0;34m\u001b[0m\u001b[0;34m\u001b[0m\u001b[0m\n\u001b[1;32m    576\u001b[0m             self._workers._temp_folder_manager._unlink_temporary_resources(\n\u001b[0;32m--> 577\u001b[0;31m                 \u001b[0mcontext_id\u001b[0m\u001b[0;34m=\u001b[0m\u001b[0mself\u001b[0m\u001b[0;34m.\u001b[0m\u001b[0mparallel\u001b[0m\u001b[0;34m.\u001b[0m\u001b[0m_id\u001b[0m\u001b[0;34m\u001b[0m\u001b[0;34m\u001b[0m\u001b[0m\n\u001b[0m\u001b[1;32m    578\u001b[0m             )\n\u001b[1;32m    579\u001b[0m             \u001b[0mself\u001b[0m\u001b[0;34m.\u001b[0m\u001b[0m_workers\u001b[0m \u001b[0;34m=\u001b[0m \u001b[0;32mNone\u001b[0m\u001b[0;34m\u001b[0m\u001b[0;34m\u001b[0m\u001b[0m\n",
      "\u001b[0;32m~/anaconda3/envs/col865/lib/python3.7/site-packages/joblib/_memmapping_reducer.py\u001b[0m in \u001b[0;36m_unlink_temporary_resources\u001b[0;34m(self, context_id)\u001b[0m\n\u001b[1;32m    630\u001b[0m                     )\n\u001b[1;32m    631\u001b[0m                 self._try_delete_folder(\n\u001b[0;32m--> 632\u001b[0;31m                     \u001b[0mallow_non_empty\u001b[0m\u001b[0;34m=\u001b[0m\u001b[0;32mFalse\u001b[0m\u001b[0;34m,\u001b[0m \u001b[0mcontext_id\u001b[0m\u001b[0;34m=\u001b[0m\u001b[0mcontext_id\u001b[0m\u001b[0;34m\u001b[0m\u001b[0;34m\u001b[0m\u001b[0m\n\u001b[0m\u001b[1;32m    633\u001b[0m                 )\n\u001b[1;32m    634\u001b[0m \u001b[0;34m\u001b[0m\u001b[0m\n",
      "\u001b[0;32m~/anaconda3/envs/col865/lib/python3.7/site-packages/joblib/_memmapping_reducer.py\u001b[0m in \u001b[0;36m_try_delete_folder\u001b[0;34m(self, allow_non_empty, context_id)\u001b[0m\n\u001b[1;32m    657\u001b[0m             \u001b[0;32mtry\u001b[0m\u001b[0;34m:\u001b[0m\u001b[0;34m\u001b[0m\u001b[0;34m\u001b[0m\u001b[0m\n\u001b[1;32m    658\u001b[0m                 delete_folder(\n\u001b[0;32m--> 659\u001b[0;31m                     \u001b[0mtemp_folder\u001b[0m\u001b[0;34m,\u001b[0m \u001b[0mallow_non_empty\u001b[0m\u001b[0;34m=\u001b[0m\u001b[0mallow_non_empty\u001b[0m\u001b[0;34m\u001b[0m\u001b[0;34m\u001b[0m\u001b[0m\n\u001b[0m\u001b[1;32m    660\u001b[0m                 )\n\u001b[1;32m    661\u001b[0m                 \u001b[0;31m# Now that this folder is deleted, we can forget about it\u001b[0m\u001b[0;34m\u001b[0m\u001b[0;34m\u001b[0m\u001b[0;34m\u001b[0m\u001b[0m\n",
      "\u001b[0;32m~/anaconda3/envs/col865/lib/python3.7/site-packages/joblib/disk.py\u001b[0m in \u001b[0;36mdelete_folder\u001b[0;34m(folder_path, onerror, allow_non_empty)\u001b[0m\n\u001b[1;32m    134\u001b[0m                         \u001b[0;31m# yet.\u001b[0m\u001b[0;34m\u001b[0m\u001b[0;34m\u001b[0m\u001b[0;34m\u001b[0m\u001b[0m\n\u001b[1;32m    135\u001b[0m                         \u001b[0;32mraise\u001b[0m\u001b[0;34m\u001b[0m\u001b[0;34m\u001b[0m\u001b[0m\n\u001b[0;32m--> 136\u001b[0;31m                 \u001b[0mtime\u001b[0m\u001b[0;34m.\u001b[0m\u001b[0msleep\u001b[0m\u001b[0;34m(\u001b[0m\u001b[0mRM_SUBDIRS_RETRY_TIME\u001b[0m\u001b[0;34m)\u001b[0m\u001b[0;34m\u001b[0m\u001b[0;34m\u001b[0m\u001b[0m\n\u001b[0m",
      "\u001b[0;31mKeyboardInterrupt\u001b[0m: "
     ]
    }
   ],
   "source": [
    "print(reg.predict([arr_t_X[0]]))\n",
    "print(test_y[0])"
   ]
  },
  {
   "cell_type": "code",
   "execution_count": 40,
   "id": "7d13738a",
   "metadata": {},
   "outputs": [
    {
     "name": "stdout",
     "output_type": "stream",
     "text": [
      "{'princetonCerber': 0, 'princetonLocky': 1, 'montrealCryptoLocker': 2, 'montrealCryptXXX': 3, 'paduaCryptoWall': 4, 'montrealWannaCry': 5, 'montrealDMALockerv3': 6, 'montrealCryptoTorLocker2015': 7, 'montrealSamSam': 8, 'montrealFlyper': 9, 'montrealNoobCrypt': 10, 'montrealDMALocker': 11, 'montrealGlobe': 12, 'montrealEDA2': 13, 'paduaKeRanger': 14, 'montrealVenusLocker': 15, 'montrealXTPLocker': 16, 'paduaJigsaw': 17, 'montrealGlobev3': 18, 'montrealJigSaw': 19, 'montrealXLockerv5.0': 20, 'montrealXLocker': 21, 'montrealRazy': 22, 'montrealCryptConsole': 23, 'montrealGlobeImposter': 24, 'montrealSam': 25, 'montrealComradeCircle': 26, 'montrealAPT': 27, 'white': 28}\n"
     ]
    }
   ],
   "source": [
    "print (classes_id)"
   ]
  },
  {
   "cell_type": "markdown",
   "id": "10c380e4",
   "metadata": {},
   "source": [
    "### 2. testing the model"
   ]
  },
  {
   "cell_type": "code",
   "execution_count": null,
   "id": "41f3a3ae",
   "metadata": {},
   "outputs": [
    {
     "name": "stderr",
     "output_type": "stream",
     "text": [
      "/home/rajat1/anaconda3/envs/col865/lib/python3.7/site-packages/joblib/externals/loky/process_executor.py:703: UserWarning: A worker stopped while some jobs were given to the executor. This can be caused by a too short worker timeout or by a memory leak.\n",
      "  \"timeout or by a memory leak.\", UserWarning\n"
     ]
    }
   ],
   "source": [
    "true_res = 0\n",
    "\n",
    "res = reg.predict(arr_t_X)"
   ]
  },
  {
   "cell_type": "code",
   "execution_count": null,
   "id": "112ec07e",
   "metadata": {},
   "outputs": [],
   "source": [
    "res"
   ]
  },
  {
   "cell_type": "code",
   "execution_count": null,
   "id": "c2177f92",
   "metadata": {},
   "outputs": [],
   "source": [
    "res1 = []\n",
    "\n",
    "for i in range(len(res)):\n",
    "    res1.append((res[i]+0.5)//1)"
   ]
  },
  {
   "cell_type": "code",
   "execution_count": null,
   "id": "146ab0bc",
   "metadata": {},
   "outputs": [],
   "source": [
    "res1"
   ]
  },
  {
   "cell_type": "code",
   "execution_count": null,
   "id": "55083751",
   "metadata": {},
   "outputs": [],
   "source": [
    "test_y"
   ]
  },
  {
   "cell_type": "code",
   "execution_count": null,
   "id": "6f4b503b",
   "metadata": {},
   "outputs": [],
   "source": [
    "for i in range(res.shape[0]):\n",
    "    if(int(res[i]) == int(test_y[i])):\n",
    "        true_res +=1\n",
    "\n",
    "accuracy = true_res/test_X.shape[0]\n",
    "\n",
    "print(accuracy)"
   ]
  },
  {
   "cell_type": "markdown",
   "id": "0bc18e0f",
   "metadata": {},
   "source": [
    "### checking if we get right"
   ]
  },
  {
   "cell_type": "code",
   "execution_count": null,
   "id": "fef446b0",
   "metadata": {},
   "outputs": [],
   "source": [
    "def plot_confusion_matrix(cm,\n",
    "                          target_names,\n",
    "                          title='Confusion matrix',\n",
    "                          cmap=None,\n",
    "                          normalize=True):\n",
    "    \"\"\"\n",
    "    given a sklearn confusion matrix (cm), make a nice plot\n",
    "\n",
    "    Arguments\n",
    "    ---------\n",
    "    cm:           confusion matrix from sklearn.metrics.confusion_matrix\n",
    "\n",
    "    target_names: given classification classes such as [0, 1, 2]\n",
    "                  the class names, for example: ['high', 'medium', 'low']\n",
    "\n",
    "    title:        the text to display at the top of the matrix\n",
    "\n",
    "    cmap:         the gradient of the values displayed from matplotlib.pyplot.cm\n",
    "                  see http://matplotlib.org/examples/color/colormaps_reference.html\n",
    "                  plt.get_cmap('jet') or plt.cm.Blues\n",
    "\n",
    "    normalize:    If False, plot the raw numbers\n",
    "                  If True, plot the proportions\n",
    "\n",
    "    Usage\n",
    "    -----\n",
    "    plot_confusion_matrix(cm           = cm,                  # confusion matrix created by\n",
    "                                                              # sklearn.metrics.confusion_matrix\n",
    "                          normalize    = True,                # show proportions\n",
    "                          target_names = y_labels_vals,       # list of names of the classes\n",
    "                          title        = best_estimator_name) # title of graph\n",
    "\n",
    "    Citiation\n",
    "    ---------\n",
    "    http://scikit-learn.org/stable/auto_examples/model_selection/plot_confusion_matrix.html\n",
    "\n",
    "    \"\"\"\n",
    "    import matplotlib.pyplot as plt\n",
    "    import numpy as np\n",
    "    import itertools\n",
    "    \n",
    "    cm = np.log(cm+1)\n",
    "    cm = cm.astype(\"int32\")\n",
    "\n",
    "    accuracy = np.trace(cm) / float(np.sum(cm))\n",
    "    misclass = 1 - accuracy\n",
    "\n",
    "    if cmap is None:\n",
    "        cmap = plt.get_cmap('Blues')\n",
    "\n",
    "    plt.figure(figsize=(30,30))\n",
    "    #plt.figure()\n",
    "    plt.imshow(cm, interpolation='nearest', cmap=cmap)\n",
    "    plt.title(title)\n",
    "    plt.colorbar()\n",
    "\n",
    "    if target_names is not None:\n",
    "        tick_marks = np.arange(len(target_names))\n",
    "        plt.xticks(tick_marks, target_names, rotation=45)\n",
    "        plt.yticks(tick_marks, target_names)\n",
    "\n",
    "    if normalize:\n",
    "        cm = cm.astype('float') / cm.sum(axis=1)[:, np.newaxis]\n",
    "\n",
    "    thresh = cm.max() / 1.5 if normalize else cm.max() / 2\n",
    "    for i, j in itertools.product(range(cm.shape[0]), range(cm.shape[1])):\n",
    "        if normalize:\n",
    "            plt.text(j, i, \"{:0.4f}\".format(cm[i, j]),\n",
    "                     horizontalalignment=\"center\",\n",
    "                     color=\"white\" if cm[i, j] > thresh else \"black\")\n",
    "        else:\n",
    "            plt.text(j, i, \"{:,}\".format(cm[i, j]),\n",
    "                     horizontalalignment=\"center\",\n",
    "                     color=\"white\" if cm[i, j] > thresh else \"black\")\n",
    "\n",
    "\n",
    "    plt.tight_layout()\n",
    "    plt.ylabel('True label')\n",
    "    plt.xlabel('Predicted label\\naccuracy={:0.4f}; misclass={:0.4f}'.format(accuracy, misclass))\n",
    "    plt.savefig(\"fig_d1_o1.png\")\n",
    "    plt.show()"
   ]
  },
  {
   "cell_type": "code",
   "execution_count": null,
   "id": "0441db7a",
   "metadata": {},
   "outputs": [],
   "source": [
    "classes = range(29)\n",
    "\n",
    "dic = {}\n",
    "for i in range(29):\n",
    "    dic[i] = i\n",
    "\n",
    "print(dic)\n",
    "\n",
    "cnf_array = []\n",
    "\n",
    "for i in range(29):\n",
    "    cnf_array.append([0]*29)\n",
    "    \n",
    "print(len(cnf_array))\n",
    "print(len(cnf_array[0]))\n",
    "\n",
    "# print(dic[test_y[0]])\n",
    "\n",
    "for i in range(res.shape[0]):\n",
    "#     print(test_y[i])\n",
    "#     print(int(res1[i]))\n",
    "#     print(dic[int(test_y[i])])\n",
    "#     print(dic[int(res1[i])])\n",
    "    \n",
    "    cnf_array[dic[int(test_y[i])]][dic[int(res1[i])]] += 1"
   ]
  },
  {
   "cell_type": "code",
   "execution_count": null,
   "id": "f8b0494c",
   "metadata": {},
   "outputs": [],
   "source": [
    "print(cnf_array)"
   ]
  },
  {
   "cell_type": "code",
   "execution_count": null,
   "id": "dff18cd8",
   "metadata": {},
   "outputs": [],
   "source": [
    "cnt=0\n",
    "for i in cnf_array:\n",
    "    for j in i:\n",
    "        cnt+=j\n",
    "        \n",
    "print(cnt) #1166684"
   ]
  },
  {
   "cell_type": "code",
   "execution_count": null,
   "id": "7187524d",
   "metadata": {},
   "outputs": [],
   "source": [
    "plot_confusion_matrix(cm= np.array(cnf_array), \n",
    "                      normalize    = False,\n",
    "                      target_names = range(29),\n",
    "                      title        = \"Confusion Matrix\")"
   ]
  },
  {
   "cell_type": "code",
   "execution_count": null,
   "id": "bff76bbe",
   "metadata": {},
   "outputs": [],
   "source": []
  },
  {
   "cell_type": "code",
   "execution_count": null,
   "id": "5affe3bd",
   "metadata": {},
   "outputs": [],
   "source": []
  }
 ],
 "metadata": {
  "kernelspec": {
   "display_name": "col865",
   "language": "python",
   "name": "col865"
  },
  "language_info": {
   "codemirror_mode": {
    "name": "ipython",
    "version": 3
   },
   "file_extension": ".py",
   "mimetype": "text/x-python",
   "name": "python",
   "nbconvert_exporter": "python",
   "pygments_lexer": "ipython3",
   "version": "3.7.13"
  }
 },
 "nbformat": 4,
 "nbformat_minor": 5
}
